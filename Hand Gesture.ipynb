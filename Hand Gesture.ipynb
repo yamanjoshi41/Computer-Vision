{
 "cells": [
  {
   "cell_type": "code",
   "execution_count": 1,
   "id": "cd7b7da2",
   "metadata": {},
   "outputs": [],
   "source": [
    "import cv2\n",
    "import mediapipe as mp\n",
    "import numpy as np"
   ]
  },
  {
   "cell_type": "code",
   "execution_count": 2,
   "id": "9168c89a",
   "metadata": {},
   "outputs": [
    {
     "name": "stderr",
     "output_type": "stream",
     "text": [
      "WARNING: All log messages before absl::InitializeLog() is called are written to STDERR\n",
      "I0000 00:00:1742839826.418668  412698 gl_context.cc:369] GL version: 2.1 (2.1 Metal - 88), renderer: Apple M2\n"
     ]
    }
   ],
   "source": [
    "# Initialize MediaPipe Hands module\n",
    "mp_hands = mp.solutions.hands\n",
    "mp_drawing = mp.solutions.drawing_utils\n",
    "hands = mp_hands.Hands(min_detection_confidence=0.7, min_tracking_confidence=0.7)"
   ]
  },
  {
   "cell_type": "code",
   "execution_count": 3,
   "id": "736145fc",
   "metadata": {},
   "outputs": [
    {
     "name": "stderr",
     "output_type": "stream",
     "text": [
      "INFO: Created TensorFlow Lite XNNPACK delegate for CPU.\n"
     ]
    }
   ],
   "source": [
    "# Function to calculate the distance between two points\n",
    "def calculate_distance(p1, p2):\n",
    "    return np.sqrt((p1.x - p2.x) ** 2 + (p1.y - p2.y) ** 2)"
   ]
  },
  {
   "cell_type": "code",
   "execution_count": 4,
   "id": "d1e3f71e",
   "metadata": {},
   "outputs": [
    {
     "name": "stderr",
     "output_type": "stream",
     "text": [
      "W0000 00:00:1742839826.433716  413979 inference_feedback_manager.cc:114] Feedback manager requires a model with a single signature inference. Disabling support for feedback tensors.\n",
      "W0000 00:00:1742839826.446306  413979 inference_feedback_manager.cc:114] Feedback manager requires a model with a single signature inference. Disabling support for feedback tensors.\n"
     ]
    }
   ],
   "source": [
    "# Function to recognize hand gestures\n",
    "def get_gesture(hand_landmarks):\n",
    "    # Extract key finger landmarks\n",
    "    thumb_tip = hand_landmarks.landmark[mp_hands.HandLandmark.THUMB_TIP]\n",
    "    thumb_ip = hand_landmarks.landmark[mp_hands.HandLandmark.THUMB_IP]\n",
    "    index_tip = hand_landmarks.landmark[mp_hands.HandLandmark.INDEX_FINGER_TIP]\n",
    "    index_mcp = hand_landmarks.landmark[mp_hands.HandLandmark.INDEX_FINGER_MCP]\n",
    "    middle_tip = hand_landmarks.landmark[mp_hands.HandLandmark.MIDDLE_FINGER_TIP]\n",
    "    middle_mcp = hand_landmarks.landmark[mp_hands.HandLandmark.MIDDLE_FINGER_MCP]\n",
    "    ring_tip = hand_landmarks.landmark[mp_hands.HandLandmark.RING_FINGER_TIP]\n",
    "    pinky_tip = hand_landmarks.landmark[mp_hands.HandLandmark.PINKY_TIP]"
   ]
  },
  {
   "cell_type": "code",
   "execution_count": 5,
   "id": "175c6ce8",
   "metadata": {},
   "outputs": [],
   "source": [
    "def get_finger_tips(index_tip, middle_tip, ring_tip, pinky_tip):\n",
    "    # List of fingertip positions (excluding the thumb)\n",
    "    fingers = [index_tip, middle_tip, ring_tip, pinky_tip]\n",
    "    return fingers"
   ]
  },
  {
   "cell_type": "code",
   "execution_count": 6,
   "id": "609621c4",
   "metadata": {},
   "outputs": [],
   "source": [
    "def recognize_gesture(thumb_tip, thumb_ip, index_tip, index_mcp, middle_tip, middle_mcp, \n",
    "                      ring_tip, ring_mcp, pinky_tip, pinky_mcp, fingers, calculate_distance):\n",
    "    \"\"\"\n",
    "    Gesture recognition logic based on finger positions.\n",
    "    \"\"\"\n",
    "\n",
    "    # Thumbs Up 👍\n",
    "    if thumb_tip.y < thumb_ip.y and all(f.y > middle_mcp.y for f in fingers):\n",
    "        return \"Thumbs Up\"\n",
    "\n",
    "    # Thumbs Down 👎\n",
    "    elif thumb_tip.y > thumb_ip.y and all(f.y > middle_mcp.y for f in fingers):\n",
    "        return \"Thumbs Down\"\n",
    "\n",
    "    # Open Hand ✋ (All fingers extended)\n",
    "    elif all(f.y < middle_mcp.y for f in fingers) and thumb_tip.y < thumb_ip.y:\n",
    "        return \"Open Hand\"\n",
    "\n",
    "    # Fist ✊ (All fingers curled)\n",
    "    elif all(f.y > middle_mcp.y for f in fingers) and calculate_distance(thumb_tip, index_tip) < 0.05:\n",
    "        return \"Fist\"\n",
    "\n",
    "    # Index Finger Up ☝️\n",
    "    elif index_tip.y < index_mcp.y and all(f.y > middle_mcp.y for f in fingers[1:]):\n",
    "        return \"Index Finger Up\"\n",
    "\n",
    "    # Peace Sign ✌️ (Index and middle fingers extended)\n",
    "    elif index_tip.y < index_mcp.y and middle_tip.y < middle_mcp.y and all(f.y > middle_mcp.y for f in fingers[2:]):\n",
    "        return \"Peace Sign\"\n",
    "\n",
    "    # Rock Sign 🤘 (Index and pinky fingers extended)\n",
    "    elif index_tip.y < index_mcp.y and pinky_tip.y < pinky_mcp.y and all(f.y > middle_mcp.y for f in fingers[1:3]):\n",
    "        return \"Rock Sign\"\n",
    "\n",
    "    # OK Sign 👌 (Thumb and index finger touching)\n",
    "    elif calculate_distance(thumb_tip, index_tip) < 0.05 and all(tip.y > middle_mcp.y for tip in [middle_tip, ring_tip, pinky_tip]):\n",
    "        return \"OK Sign\"\n",
    "\n",
    "    # Three Fingers Up (Like a scout sign) 🖖\n",
    "    elif all(f.y < middle_mcp.y for f in fingers[:3]) and all(f.y > middle_mcp.y for f in fingers[3:]):\n",
    "        return \"Three Fingers Up\"\n",
    "\n",
    "    # Call Me 🤙 (Thumb and pinky extended)\n",
    "    elif thumb_tip.y < thumb_ip.y and pinky_tip.y < pinky_mcp.y and all(f.y > middle_mcp.y for f in fingers[1:3]):\n",
    "        return \"Call Me\"\n",
    "\n",
    "    # Finger Gun 👉 (Index and thumb extended)\n",
    "    elif index_tip.y < index_mcp.y and thumb_tip.y < thumb_ip.y and all(f.y > middle_mcp.y for f in fingers[2:]):\n",
    "        return \"Finger Gun\"\n",
    "\n",
    "    # Victory ✌️ (Index and middle extended with thumb touching ring)\n",
    "    elif index_tip.y < index_mcp.y and middle_tip.y < middle_mcp.y and calculate_distance(thumb_tip, ring_tip) < 0.05:\n",
    "        return \"Victory\"\n",
    "\n",
    "    # Raised Hand ✋ (Like stop signal)\n",
    "    elif all(f.y < middle_mcp.y for f in fingers) and thumb_tip.y > thumb_ip.y:\n",
    "        return \"Raised Hand\"\n",
    "\n",
    "    # Horns Up 🤟 (Index and pinky extended, thumb touching middle/ring)\n",
    "    elif index_tip.y < index_mcp.y and pinky_tip.y < pinky_mcp.y and calculate_distance(thumb_tip, middle_tip) < 0.05:\n",
    "        return \"Horns Up\"\n",
    "\n",
    "    # Pinch (Thumb touching index and middle)\n",
    "    elif calculate_distance(thumb_tip, index_tip) < 0.05 and calculate_distance(thumb_tip, middle_tip) < 0.05:\n",
    "        return \"Pinch\"\n",
    "\n",
    "    # Love Sign ❤️ (Index, thumb touching in heart shape)\n",
    "    elif calculate_distance(thumb_tip, index_tip) < 0.05 and pinky_tip.y < pinky_mcp.y:\n",
    "        return \"Love Sign\"\n",
    "\n",
    "    # Salute 🫡 (Fingers extended, hand tilted)\n",
    "    elif all(f.y < middle_mcp.y for f in fingers) and thumb_tip.y > thumb_ip.y and index_tip.x < thumb_tip.x:\n",
    "        return \"Salute\"\n",
    "\n",
    "    # Crossed Fingers 🤞 (Index and middle crossed)\n",
    "    elif calculate_distance(index_tip, middle_tip) < 0.05 and all(f.y > middle_mcp.y for f in fingers[2:]):\n",
    "        return \"Crossed Fingers\"\n",
    "\n",
    "    # Claw 🐾 (Curled fingers)\n",
    "    elif all(f.y > middle_mcp.y for f in fingers) and all(f.y < ring_mcp.y for f in fingers):\n",
    "        return \"Claw\"\n",
    "\n",
    "    # High Five ✋ (Fully extended with palm facing)\n",
    "    elif all(f.y < middle_mcp.y for f in fingers) and thumb_tip.y < thumb_ip.y:\n",
    "        return \"High Five\"\n",
    "\n",
    "    return \"No Recognized Gesture\""
   ]
  },
  {
   "cell_type": "code",
   "execution_count": 7,
   "id": "c89c388e",
   "metadata": {},
   "outputs": [
    {
     "name": "stderr",
     "output_type": "stream",
     "text": [
      "W0000 00:00:1742839831.907439  413986 landmark_projection_calculator.cc:186] Using NORM_RECT without IMAGE_DIMENSIONS is only supported for the square ROI. Provide IMAGE_DIMENSIONS or use PROJECTION_MATRIX.\n"
     ]
    }
   ],
   "source": [
    "# Open webcam\n",
    "cap = cv2.VideoCapture(0)\n",
    "\n",
    "while cap.isOpened():\n",
    "    ret, frame = cap.read()\n",
    "    if not ret:\n",
    "        break  # Exit if the frame is not captured properly\n",
    "\n",
    "    # Flip the frame horizontally (like a mirror)\n",
    "    frame = cv2.flip(frame, 1)\n",
    "    \n",
    "    # Convert BGR to RGB (MediaPipe expects RGB input)\n",
    "    rgb_frame = cv2.cvtColor(frame, cv2.COLOR_BGR2RGB)\n",
    "\n",
    "    # Process frame with MediaPipe Hands\n",
    "    results = hands.process(rgb_frame)\n",
    "\n",
    "    if results.multi_hand_landmarks:\n",
    "        for hand_landmarks in results.multi_hand_landmarks:\n",
    "            # Draw hand landmarks on the frame\n",
    "            mp_drawing.draw_landmarks(frame, hand_landmarks, mp_hands.HAND_CONNECTIONS)\n",
    "            \n",
    "            # Recognize gesture and display it\n",
    "            gesture = get_gesture(hand_landmarks)\n",
    "            cv2.putText(frame, gesture, (50, 50), cv2.FONT_HERSHEY_SIMPLEX, 1, (0, 255, 0), 2)\n",
    "\n",
    "    # Show the output video with gestures detected\n",
    "    cv2.imshow('Gesture Recognition', frame)\n",
    "\n",
    "    # Press 'q' to exit the program\n",
    "    if cv2.waitKey(1) & 0xFF == ord('q'):\n",
    "        break"
   ]
  },
  {
   "cell_type": "code",
   "execution_count": null,
   "id": "1354190e",
   "metadata": {},
   "outputs": [],
   "source": [
    "# Release webcam and close windows\n",
    "cap.release()\n",
    "cv2.destroyAllWindows()"
   ]
  }
 ],
 "metadata": {
  "kernelspec": {
   "display_name": "Python 3 (ipykernel)",
   "language": "python",
   "name": "python3"
  },
  "language_info": {
   "codemirror_mode": {
    "name": "ipython",
    "version": 3
   },
   "file_extension": ".py",
   "mimetype": "text/x-python",
   "name": "python",
   "nbconvert_exporter": "python",
   "pygments_lexer": "ipython3",
   "version": "3.11.5"
  }
 },
 "nbformat": 4,
 "nbformat_minor": 5
}
